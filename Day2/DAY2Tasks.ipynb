{
 "cells": [
  {
   "cell_type": "markdown",
   "metadata": {},
   "source": [
    "# Day2 Task"
   ]
  },
  {
   "cell_type": "markdown",
   "metadata": {},
   "source": [
    "Try to complete all the tasks and raise your queries on the [issues tab](https://github.com/analytics-club-iitm/Daily-Sessions/issues) on this repo"
   ]
  },
  {
   "cell_type": "markdown",
   "metadata": {},
   "source": [
    "## `Let's Get Started`"
   ]
  },
  {
   "cell_type": "markdown",
   "metadata": {},
   "source": [
    ">**EXERCISE-1**:  Given a string,\n",
    "1.  Check if all the elements in string are smaller; \n",
    "2.  Find out all the capital letters in the string; \n",
    "3.  Then, make all the letters to lower case."
   ]
  },
  {
   "cell_type": "code",
   "execution_count": 1,
   "metadata": {},
   "outputs": [
    {
     "name": "stdout",
     "output_type": "stream",
     "text": [
      "False\n",
      "D\n",
      "E\n",
      "I\n",
      "L\n",
      "W\n",
      "data science will change the world\n"
     ]
    }
   ],
   "source": [
    "#your code here\n",
    "\n",
    "strng = 'Data sciEnce wILl change the World'\n",
    "print(strng.islower())\n",
    "for i in strng:\n",
    "    if i.isupper():\n",
    "        print(i)\n",
    "print(strng.lower())"
   ]
  },
  {
   "cell_type": "markdown",
   "metadata": {},
   "source": [
    ">**EXERCISE-2**:  Build a list that contains every prime number between 1 and 100, in two different ways:\n",
    "1.  Using for loops and conditional if statements.\n",
    "2.  *(Stretch Goal)* Using a list comprehension.  You should be able to do this in one line of code, and it may be helpful to look up the function `all` in the documentation."
   ]
  },
  {
   "cell_type": "code",
   "execution_count": 2,
   "metadata": {},
   "outputs": [
    {
     "name": "stdout",
     "output_type": "stream",
     "text": [
      "[2, 3, 5, 7, 11, 13, 17, 19, 23, 29, 31, 37, 41, 43, 47, 53, 59, 61, 67, 71, 73, 79, 83, 89, 97]\n",
      "[2, 3, 5, 7, 11, 13, 17, 19, 23, 29, 31, 37, 41, 43, 47, 53, 59, 61, 67, 71, 73, 79, 83, 89, 97]\n"
     ]
    }
   ],
   "source": [
    "# your code here\n",
    "\n",
    "# using loops and if statements\n",
    "primes = [];\n",
    "for j in range(2, 100):\n",
    "    count = 0;\n",
    "    for i in range(2,j):\n",
    "        if j % i == 0:\n",
    "            count = count + 1;\n",
    "    if count == 0:\n",
    "        primes.append(j)\n",
    "print(primes)\n",
    "\n",
    "# using list comprehension \n",
    "primes_lc = [j for j in range(2, 100) if all([j % i != 0 for i in range(2, j)])]\n",
    "\n",
    "print(primes_lc)"
   ]
  },
  {
   "cell_type": "markdown",
   "metadata": {},
   "source": [
    ">**EXERCISE-3:** Define a function, called `myprimes`, and solve above problem using that"
   ]
  },
  {
   "cell_type": "code",
   "execution_count": 3,
   "metadata": {},
   "outputs": [
    {
     "name": "stdout",
     "output_type": "stream",
     "text": [
      "[2, 3, 5, 7, 11, 13, 17, 19, 23, 29, 31, 37, 41, 43, 47, 53, 59, 61, 67, 71, 73, 79, 83, 89, 97]\n"
     ]
    }
   ],
   "source": [
    "#your code here\n",
    "\n",
    "def myprimes(N):\n",
    "    prms = [];\n",
    "    for j in range(2, N):\n",
    "        count = 0;\n",
    "        for i in range(2,j):\n",
    "            if j % i == 0:\n",
    "                count = count + 1;\n",
    "        if count == 0:\n",
    "            prms.append(j)\n",
    "    return(prms)\n",
    "\n",
    "print(myprimes(100))"
   ]
  },
  {
   "cell_type": "markdown",
   "metadata": {},
   "source": [
    ">**EXERCISE-4:** Define a function, called `square`, which can square numbers and find square of 17 using that function"
   ]
  },
  {
   "cell_type": "code",
   "execution_count": 4,
   "metadata": {},
   "outputs": [
    {
     "data": {
      "text/plain": [
       "289"
      ]
     },
     "execution_count": 4,
     "metadata": {},
     "output_type": "execute_result"
    }
   ],
   "source": [
    "## your code here\n",
    "\n",
    "def square(n):\n",
    "    return n*n\n",
    "square(17)"
   ]
  },
  {
   "cell_type": "markdown",
   "metadata": {},
   "source": [
    ">**EXERCISE-5:** Create a dictionary, called `ps_dict`, that contains with the primes less than 100 and their corresponding squares."
   ]
  },
  {
   "cell_type": "code",
   "execution_count": 5,
   "metadata": {},
   "outputs": [
    {
     "name": "stdout",
     "output_type": "stream",
     "text": [
      "{2: 4, 3: 9, 5: 25, 7: 49, 11: 121, 13: 169, 17: 289, 19: 361, 23: 529, 29: 841, 31: 961, 37: 1369, 41: 1681, 43: 1849, 47: 2209, 53: 2809, 59: 3481, 61: 3721, 67: 4489, 71: 5041, 73: 5329, 79: 6241, 83: 6889, 89: 7921, 97: 9409}\n"
     ]
    }
   ],
   "source": [
    "# your code here\n",
    "\n",
    "mysquares = [square(i) for i in myprimes(100)]\n",
    "ps_dict = {i:j for (i, j) in zip(myprimes(100), mysquares)}\n",
    "\n",
    "print(ps_dict)"
   ]
  },
  {
   "cell_type": "markdown",
   "metadata": {},
   "source": [
    ">**EXERCISE-6:** TRY TO FIGURE OUT"
   ]
  },
  {
   "cell_type": "code",
   "execution_count": 6,
   "metadata": {},
   "outputs": [
    {
     "data": {
      "text/plain": [
       "(['python', 'data science', 'machine learning', 'deep learning'],\n",
       " 'hello world')"
      ]
     },
     "execution_count": 6,
     "metadata": {},
     "output_type": "execute_result"
    }
   ],
   "source": [
    "tupl = (['python', 'data science', 'machine learning'], 'hello world')\n",
    "tupl2 = tupl\n",
    "\n",
    "tupl[0].append('deep learning')\n",
    "tupl2"
   ]
  },
  {
   "cell_type": "markdown",
   "metadata": {},
   "source": [
    "We studied in our assignment that tuple are immutable but above how come we were able to change the value in tupl. Explain??\n",
    "(`Hint:` Refer the link which is shared in our main notebook)\n",
    "\n",
    "Also explain how why tupl2 is getting changed?"
   ]
  },
  {
   "cell_type": "markdown",
   "metadata": {},
   "source": [
    "your answer here\n",
    "\n"
   ]
  },
  {
   "cell_type": "markdown",
   "metadata": {},
   "source": [
    ">**EXERCISE-7:** Take an input string parameter and determine if exactly 3 question marks exist between every pair of nearest numbers that add up to 10. If so, return true, otherwise return false"
   ]
  },
  {
   "cell_type": "code",
   "execution_count": 56,
   "metadata": {},
   "outputs": [],
   "source": [
    "#your code here\n",
    "\n",
    "def QuestionsMarks(s):\n",
    "    qnum = 0\n",
    "    dig = 0\n",
    "    has_10 = False\n",
    "    for ch in s:\n",
    "        if ch.isdigit():\n",
    "            if int(ch) + dig == 10:\n",
    "                if qnum != 3:\n",
    "                    return 'false'\n",
    "                has_10 = True\n",
    "            dig = int(ch)\n",
    "            qnum = 0\n",
    "        elif ch == '?':\n",
    "            qnum += 1\n",
    "    return 'true' if has_10 else 'false'"
   ]
  },
  {
   "cell_type": "code",
   "execution_count": 71,
   "metadata": {},
   "outputs": [
    {
     "name": "stdout",
     "output_type": "stream",
     "text": [
      "true\n",
      "true\n",
      "true\n",
      "false\n",
      "true\n",
      "false\n"
     ]
    }
   ],
   "source": [
    "##Check this on test examples\n",
    "ls = ['??5?e??5???','arrb6???4xxbl5???eee5', 'acc?7??sss?3rr1??????5', '5??aaaaaaaaaaaaaaaaaaa?5?5', '9???1???9???1???9', 'aa6?9']\n",
    "for s in ls:\n",
    "    print(QuestionsMarks(s))"
   ]
  },
  {
   "cell_type": "code",
   "execution_count": null,
   "metadata": {},
   "outputs": [],
   "source": []
  }
 ],
 "metadata": {
  "kernelspec": {
   "display_name": "Python 3",
   "language": "python",
   "name": "python3"
  },
  "language_info": {
   "codemirror_mode": {
    "name": "ipython",
    "version": 3
   },
   "file_extension": ".py",
   "mimetype": "text/x-python",
   "name": "python",
   "nbconvert_exporter": "python",
   "pygments_lexer": "ipython3",
   "version": "3.7.4"
  }
 },
 "nbformat": 4,
 "nbformat_minor": 2
}
